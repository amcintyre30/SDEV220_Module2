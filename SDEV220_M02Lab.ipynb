{
 "cells": [
  {
   "cell_type": "code",
   "execution_count": null,
   "id": "9135614c",
   "metadata": {},
   "outputs": [],
   "source": [
    "#Aubrie McIntyre\n",
    "#Stored in the SDEV220 Module 2 folder, named file SDEV220_M02Lab\n",
    "#This app will accept student names and determine whether they have made Honor Roll and/or Dean's List"
   ]
  },
  {
   "cell_type": "code",
   "execution_count": 7,
   "id": "1f312742",
   "metadata": {},
   "outputs": [
    {
     "name": "stdout",
     "output_type": "stream",
     "text": [
      "Input student last name, [ZZZ] to STOP: Reedy\n",
      "Please input student first name: Blake\n",
      "Please input student GPA: 2.1\n",
      "Blake Reedy did not make the Dean's List or Honor Roll.\n",
      "Input student last name, [ZZZ] to STOP: McIntyre\n",
      "Please input student first name: Aubrie\n",
      "Please input student GPA: 3.0\n",
      "Aubrie McIntyre did not make the Dean's List or Honor Roll.\n",
      "Input student last name, [ZZZ] to STOP: Glover\n",
      "Please input student first name: Michael\n",
      "Please input student GPA: 3.2\n",
      "Michael Glover did not make the Dean's List or Honor Roll.\n",
      "Input student last name, [ZZZ] to STOP: Doan\n",
      "Please input student first name: Oakley\n",
      "Please input student GPA: 3.25\n",
      "Oakley Doan has made the Honor Roll.\n",
      "Input student last name, [ZZZ] to STOP: Whallon\n",
      "Please input student first name: Tatum\n",
      "Please input student GPA: 4.0\n",
      "Tatum Whallon has made the Dean's List.\n",
      "Input student last name, [ZZZ] to STOP: ZZZ\n"
     ]
    }
   ],
   "source": [
    "last_name = input('Input student last name, [ZZZ] to STOP: ')\n",
    "while last_name != 'ZZZ':\n",
    "    first_name = input('Please input student first name: ')\n",
    "    gpa = float(input('Please input student GPA: '))\n",
    "    if gpa >= 3.5:\n",
    "        print(first_name + ' ' + last_name + ' has made the Dean\\'s List.')\n",
    "    elif gpa >= 3.25:\n",
    "        print(first_name + ' ' + last_name + ' has made the Honor Roll.')\n",
    "    else:\n",
    "        print(first_name + ' ' + last_name + ' did not make the Dean\\'s List or Honor Roll.')\n",
    "    last_name = input('Input student last name, [ZZZ] to STOP: ')"
   ]
  },
  {
   "cell_type": "code",
   "execution_count": null,
   "id": "131f0bd5",
   "metadata": {},
   "outputs": [],
   "source": []
  }
 ],
 "metadata": {
  "kernelspec": {
   "display_name": "Python 3 (ipykernel)",
   "language": "python",
   "name": "python3"
  },
  "language_info": {
   "codemirror_mode": {
    "name": "ipython",
    "version": 3
   },
   "file_extension": ".py",
   "mimetype": "text/x-python",
   "name": "python",
   "nbconvert_exporter": "python",
   "pygments_lexer": "ipython3",
   "version": "3.11.5"
  }
 },
 "nbformat": 4,
 "nbformat_minor": 5
}
